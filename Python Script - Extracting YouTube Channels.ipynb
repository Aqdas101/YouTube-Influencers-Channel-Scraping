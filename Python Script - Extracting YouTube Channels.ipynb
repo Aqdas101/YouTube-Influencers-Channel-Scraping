{
 "cells": [
  {
   "cell_type": "code",
   "execution_count": 29,
   "id": "bb91beba",
   "metadata": {},
   "outputs": [],
   "source": [
    "import os\n",
    "from googleapiclient.discovery import build\n",
    "import csv"
   ]
  },
  {
   "cell_type": "markdown",
   "id": "fc5e3963",
   "metadata": {},
   "source": [
    "# User Input"
   ]
  },
  {
   "cell_type": "code",
   "execution_count": 1,
   "id": "557a7de6",
   "metadata": {},
   "outputs": [],
   "source": [
    "api = input('Please Input your API key: ')\n",
    "target_subscriber_count = int(input('Please enter the minimum subcribers limit: '))\n",
    "num_channels = int(input('Please enter the number of channels link you want to get: '))\n",
    "category = input('Input category name, if multiple categories, seprate them with comma: ')\n",
    "\n",
    "# category = input('''\n",
    "# Please select from any of these categories:\n",
    "# - music\n",
    "# - gaming\n",
    "# - sports\n",
    "# - comedy\n",
    "# - education\n",
    "# - news\n",
    "# - technology\n",
    "# - fashion\n",
    "# - travel\n",
    "# - science \n",
    "# - productivity\n",
    "\n",
    "# ''')"
   ]
  },
  {
   "cell_type": "markdown",
   "id": "70598586",
   "metadata": {},
   "source": [
    "# Extraction"
   ]
  },
  {
   "cell_type": "code",
   "execution_count": 67,
   "id": "b5cad265",
   "metadata": {},
   "outputs": [],
   "source": [
    "def get_channels_by_subscriber_count(target_subscriber_count, category, num_channels, api):\n",
    "    api_key = api\n",
    "    youtube = build('youtube', 'v3', developerKey=api_key)\n",
    "    \n",
    "#     categories = {'music' : '/m/04rlf', 'gaming' : '/m/0bzvm2', \n",
    "#               'sports' : '/m/06ntj', 'comedy' : '/m/09kqc', 'education' : '/m/02jj',\n",
    "#              'news' : '/m/056j4', 'technology' : '/m/07c1v', 'fashion' : '/m/03glg',\n",
    "#               'travel' : '/m/07bxq', 'science' : '/m/0bzvm2', 'productivity' : '/m/0283dt1',\n",
    "#             'film: /m/02vxn', 'animation: /m/05q4t', 'pets and animals' : '/m/068hy', ''\n",
    "#              }\n",
    "    \n",
    "    \n",
    "    result_channels = []  # To store the resulting YouTube channels\n",
    "    total_channels = 0  # Counter for the number of channels found\n",
    "    \n",
    "    while total_channels < num_channels:\n",
    "        # Call the API to search for channels in the specified category\n",
    "        request = youtube.search().list(\n",
    "            part='snippet',\n",
    "            type='channel',\n",
    "            maxResults=50,\n",
    "            order='videoCount',\n",
    "            q = category\n",
    "#             topicId = categories[category]\n",
    "#             location='US'\n",
    "            \n",
    "        )\n",
    "        response = request.execute()\n",
    "        \n",
    "        for item in response['items']:\n",
    "            channel_id = item['id']['channelId']\n",
    "            \n",
    "            # Call the API to retrieve channel statistics\n",
    "            channel_response = youtube.channels().list(\n",
    "                part='statistics',\n",
    "                id=channel_id\n",
    "            ).execute()\n",
    "            \n",
    "            # Get the subscriber count for the channel\n",
    "            subscriber_count = int(channel_response['items'][0]['statistics']['subscriberCount'])\n",
    "            \n",
    "            # Filter channels based on subscriber count (target threshold)\n",
    "            if subscriber_count >= target_subscriber_count:\n",
    "                \n",
    "                total_channels += 1\n",
    "                channel_title = item['snippet']['title']\n",
    "                channel_link = f'https ://www.youtube.com/channel/{channel_id}'\n",
    "                \n",
    "                result_channels.append({\n",
    "                    'title': channel_title,\n",
    "                    'link': channel_link,\n",
    "                    'subscriber_count': subscriber_count\n",
    "                })\n",
    "                \n",
    "                if total_channels == num_channels:\n",
    "                    break\n",
    "        \n",
    "        if 'nextPageToken' in response:\n",
    "            request = youtube.search().list_next(request, response)\n",
    "        else:\n",
    "            break\n",
    "    \n",
    "    return result_channels"
   ]
  },
  {
   "cell_type": "markdown",
   "id": "57e7b100",
   "metadata": {},
   "source": [
    "# Main"
   ]
  },
  {
   "cell_type": "code",
   "execution_count": 68,
   "id": "3b2271f8",
   "metadata": {},
   "outputs": [],
   "source": [
    "def main(target_subscriber_count, category, num_channels, api):\n",
    "    category = category.split(',')\n",
    "    category = [i.strip() for i in category]\n",
    "    category = [i.lower() for i in category]\n",
    "    \n",
    "    for find_cat in category:    \n",
    "        channels = get_channels_by_subscriber_count(target_subscriber_count, find_cat , num_channels, api)\n",
    "        my_channels = []\n",
    "        for channel in channels:\n",
    "            my_channels.append(channel['link'])\n",
    "        with open(f'{find_cat}.csv', 'w', newline='') as file:\n",
    "            writer = csv.writer(file)\n",
    "            for links in my_channels:\n",
    "                writer.writerow([links])\n",
    "            \n",
    "    return 'Congratulations! Scraped Successfully'"
   ]
  },
  {
   "cell_type": "code",
   "execution_count": 69,
   "id": "142e13d2",
   "metadata": {},
   "outputs": [
    {
     "data": {
      "text/plain": [
       "'Congratulations! Scraped Successfully'"
      ]
     },
     "execution_count": 69,
     "metadata": {},
     "output_type": "execute_result"
    }
   ],
   "source": [
    "main(target_subscriber_count,category,num_channels, api)"
   ]
  },
  {
   "cell_type": "code",
   "execution_count": null,
   "id": "c123b03c",
   "metadata": {},
   "outputs": [],
   "source": []
  },
  {
   "cell_type": "code",
   "execution_count": null,
   "id": "6e5bd094",
   "metadata": {},
   "outputs": [],
   "source": []
  }
 ],
 "metadata": {
  "kernelspec": {
   "display_name": "Python 3 (ipykernel)",
   "language": "python",
   "name": "python3"
  },
  "language_info": {
   "codemirror_mode": {
    "name": "ipython",
    "version": 3
   },
   "file_extension": ".py",
   "mimetype": "text/x-python",
   "name": "python",
   "nbconvert_exporter": "python",
   "pygments_lexer": "ipython3",
   "version": "3.8.7rc1"
  }
 },
 "nbformat": 4,
 "nbformat_minor": 5
}
